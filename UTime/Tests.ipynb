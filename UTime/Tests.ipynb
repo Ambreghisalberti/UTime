{
 "cells": [
  {
   "cell_type": "code",
   "execution_count": 1,
   "id": "initial_id",
   "metadata": {
    "collapsed": true,
    "ExecuteTime": {
     "end_time": "2024-05-28T08:31:34.100076Z",
     "start_time": "2024-05-28T08:31:32.739994Z"
    }
   },
   "outputs": [
    {
     "data": {
      "text/plain": "tensor(-0.3340)"
     },
     "execution_count": 1,
     "metadata": {},
     "output_type": "execute_result"
    }
   ],
   "source": [
    "from UTime.CostFunctions import DiceLoss\n",
    "import torch\n",
    "\n",
    "f = DiceLoss()\n",
    "\n",
    "outputs = torch.Tensor([[0.2,0.1,0.7],[0.4,0.1,0.1]])\n",
    "labels = torch.Tensor([[0,0,1],[1,0,0]])\n",
    "f(torch.flatten(outputs), torch.flatten(labels))"
   ]
  },
  {
   "cell_type": "code",
   "outputs": [
    {
     "data": {
      "text/plain": "torch.Size([2, 2, 3])"
     },
     "execution_count": 6,
     "metadata": {},
     "output_type": "execute_result"
    }
   ],
   "source": [
    "import torch\n",
    "test = torch.tensor([[[0.2,0.1,0.7],[0.4,0.1,0.1]],\n",
    "                     [[0.4,0.2,0.9],[0.5,0.1,0.8]]])\n",
    "test.shape"
   ],
   "metadata": {
    "collapsed": false,
    "ExecuteTime": {
     "end_time": "2024-07-03T08:56:56.734317Z",
     "start_time": "2024-07-03T08:56:56.726283Z"
    }
   },
   "id": "1fd2ea364dc31fc0",
   "execution_count": 6
  },
  {
   "cell_type": "code",
   "outputs": [
    {
     "data": {
      "text/plain": "tensor([[[0.2000, 0.1000, 0.7000],\n         [0.4000, 0.1000, 0.1000]],\n\n        [[0.2000, 0.1000, 0.7000],\n         [0.4000, 0.1000, 0.1000]],\n\n        [[0.2000, 0.1000, 0.7000],\n         [0.4000, 0.1000, 0.1000]],\n\n        [[0.2000, 0.1000, 0.7000],\n         [0.4000, 0.1000, 0.1000]],\n\n        [[0.2000, 0.1000, 0.7000],\n         [0.4000, 0.1000, 0.1000]]])"
     },
     "execution_count": 14,
     "metadata": {},
     "output_type": "execute_result"
    }
   ],
   "source": [
    "import numpy as np\n",
    "test = torch.tensor([[0.2,0.1,0.7],[0.4,0.1,0.1]])\n",
    "torch.tensor(np.array([test for i in range(5)]))"
   ],
   "metadata": {
    "collapsed": false,
    "ExecuteTime": {
     "end_time": "2024-07-03T13:52:43.376134Z",
     "start_time": "2024-07-03T13:52:43.371983Z"
    }
   },
   "id": "846386899a445b2a",
   "execution_count": 14
  },
  {
   "cell_type": "code",
   "outputs": [
    {
     "data": {
      "text/plain": "tensor([[[0.2000, 0.1000, 0.7000],\n         [0.4000, 0.1000, 0.1000]],\n\n        [[0.4000, 0.2000, 0.9000],\n         [0.5000, 0.1000, 0.8000]]])"
     },
     "execution_count": 7,
     "metadata": {},
     "output_type": "execute_result"
    }
   ],
   "source": [
    "test"
   ],
   "metadata": {
    "collapsed": false,
    "ExecuteTime": {
     "end_time": "2024-07-03T08:56:59.071897Z",
     "start_time": "2024-07-03T08:56:59.066308Z"
    }
   },
   "id": "45c151c40ee870b0",
   "execution_count": 7
  },
  {
   "cell_type": "code",
   "outputs": [
    {
     "data": {
      "text/plain": "tensor([[[0.2000, 0.1000, 0.7000, 0.4000, 0.2000, 0.9000],\n         [0.4000, 0.1000, 0.1000, 0.5000, 0.1000, 0.8000]]])"
     },
     "execution_count": 10,
     "metadata": {},
     "output_type": "execute_result"
    }
   ],
   "source": [
    "test.transpose(0,1).reshape((1,2,6))"
   ],
   "metadata": {
    "collapsed": false,
    "ExecuteTime": {
     "end_time": "2024-07-03T08:59:22.575966Z",
     "start_time": "2024-07-03T08:59:22.566868Z"
    }
   },
   "id": "510e479ec6ef7322",
   "execution_count": 10
  },
  {
   "cell_type": "code",
   "outputs": [
    {
     "data": {
      "text/plain": "tensor([[[0.2000, 0.4000],\n         [0.1000, 0.1000],\n         [0.7000, 0.1000]],\n\n        [[0.4000, 0.5000],\n         [0.2000, 0.1000],\n         [0.9000, 0.8000]]])"
     },
     "execution_count": 8,
     "metadata": {},
     "output_type": "execute_result"
    }
   ],
   "source": [
    "test.transpose(1,2)"
   ],
   "metadata": {
    "collapsed": false,
    "ExecuteTime": {
     "end_time": "2024-07-03T08:57:03.490130Z",
     "start_time": "2024-07-03T08:57:03.486935Z"
    }
   },
   "id": "f416336587e212f2",
   "execution_count": 8
  },
  {
   "cell_type": "code",
   "outputs": [
    {
     "data": {
      "text/plain": "tensor([[[0.2000, 0.1000, 0.7000, 0.4000, 0.1000, 0.1000],\n         [0.4000, 0.2000, 0.9000, 0.5000, 0.1000, 0.8000]]])"
     },
     "execution_count": 9,
     "metadata": {},
     "output_type": "execute_result"
    }
   ],
   "source": [
    "test.reshape((1,2,6))"
   ],
   "metadata": {
    "collapsed": false,
    "ExecuteTime": {
     "end_time": "2024-07-03T08:58:27.656791Z",
     "start_time": "2024-07-03T08:58:27.652999Z"
    }
   },
   "id": "a4c57522e7c62bbd",
   "execution_count": 9
  },
  {
   "cell_type": "code",
   "outputs": [
    {
     "data": {
      "text/plain": "tensor([[[0.2000, 0.1000, 0.7000],\n         [0.4000, 0.1000, 0.1000]]])"
     },
     "execution_count": 4,
     "metadata": {},
     "output_type": "execute_result"
    }
   ],
   "source": [
    "test"
   ],
   "metadata": {
    "collapsed": false,
    "ExecuteTime": {
     "end_time": "2024-07-02T15:12:55.026027Z",
     "start_time": "2024-07-02T15:12:55.021670Z"
    }
   },
   "id": "d47dc0899c426dce",
   "execution_count": 4
  },
  {
   "cell_type": "code",
   "outputs": [
    {
     "data": {
      "text/plain": "tensor([[[0.4000, 0.2000, 1.4000],\n         [0.8000, 0.2000, 0.2000]]])"
     },
     "execution_count": 6,
     "metadata": {},
     "output_type": "execute_result"
    }
   ],
   "source": [
    "test2 = 2*test\n",
    "test2"
   ],
   "metadata": {
    "collapsed": false,
    "ExecuteTime": {
     "end_time": "2024-07-02T15:15:16.103795Z",
     "start_time": "2024-07-02T15:15:16.100389Z"
    }
   },
   "id": "c48bd533df175015",
   "execution_count": 6
  },
  {
   "cell_type": "code",
   "outputs": [
    {
     "data": {
      "text/plain": "torch.Size([1, 4, 3])"
     },
     "execution_count": 9,
     "metadata": {},
     "output_type": "execute_result"
    }
   ],
   "source": [
    "torch.concat((test,test2),dim=1).shape"
   ],
   "metadata": {
    "collapsed": false,
    "ExecuteTime": {
     "end_time": "2024-07-02T15:16:45.384005Z",
     "start_time": "2024-07-02T15:16:45.381255Z"
    }
   },
   "id": "1a13805f895006b2",
   "execution_count": 9
  },
  {
   "cell_type": "code",
   "outputs": [
    {
     "data": {
      "text/plain": "torch.Size([2, 2, 3])"
     },
     "execution_count": 12,
     "metadata": {},
     "output_type": "execute_result"
    }
   ],
   "source": [
    "torch.concat((test,test2),dim=0)"
   ],
   "metadata": {
    "collapsed": false,
    "ExecuteTime": {
     "end_time": "2024-07-02T15:18:15.322723Z",
     "start_time": "2024-07-02T15:18:15.319032Z"
    }
   },
   "id": "9daab275d2042cbb",
   "execution_count": 12
  },
  {
   "cell_type": "code",
   "outputs": [
    {
     "data": {
      "text/plain": "tensor([[[0.2000, 0.1000, 0.7000, 0.2000, 0.1000, 0.7000, 0.2000, 0.1000,\n          0.7000],\n         [0.4000, 0.1000, 0.1000, 0.4000, 0.1000, 0.1000, 0.4000, 0.1000,\n          0.1000]]])"
     },
     "execution_count": 5,
     "metadata": {},
     "output_type": "execute_result"
    }
   ],
   "source": [
    "test.repeat(1,1,3)"
   ],
   "metadata": {
    "collapsed": false,
    "ExecuteTime": {
     "end_time": "2024-07-02T15:13:06.878302Z",
     "start_time": "2024-07-02T15:13:06.874991Z"
    }
   },
   "id": "ee44909c4cdb238f",
   "execution_count": 5
  },
  {
   "cell_type": "code",
   "outputs": [
    {
     "ename": "ValueError",
     "evalue": "Found array with 0 sample(s) (shape=(0, 41)) while a minimum of 1 is required by StandardScaler.",
     "output_type": "error",
     "traceback": [
      "\u001B[0;31m---------------------------------------------------------------------------\u001B[0m",
      "\u001B[0;31mValueError\u001B[0m                                Traceback (most recent call last)",
      "Cell \u001B[0;32mIn[13], line 14\u001B[0m\n\u001B[1;32m     11\u001B[0m moments_features \u001B[38;5;241m=\u001B[39m [\u001B[38;5;124m'\u001B[39m\u001B[38;5;124mBx\u001B[39m\u001B[38;5;124m'\u001B[39m, \u001B[38;5;124m'\u001B[39m\u001B[38;5;124mBy\u001B[39m\u001B[38;5;124m'\u001B[39m, \u001B[38;5;124m'\u001B[39m\u001B[38;5;124mBz\u001B[39m\u001B[38;5;124m'\u001B[39m, \u001B[38;5;124m'\u001B[39m\u001B[38;5;124mVx\u001B[39m\u001B[38;5;124m'\u001B[39m, \u001B[38;5;124m'\u001B[39m\u001B[38;5;124mVy\u001B[39m\u001B[38;5;124m'\u001B[39m, \u001B[38;5;124m'\u001B[39m\u001B[38;5;124mVz\u001B[39m\u001B[38;5;124m'\u001B[39m, \u001B[38;5;124m'\u001B[39m\u001B[38;5;124mOMNI_Bx\u001B[39m\u001B[38;5;124m'\u001B[39m,\u001B[38;5;124m'\u001B[39m\u001B[38;5;124mOMNI_By\u001B[39m\u001B[38;5;124m'\u001B[39m,\u001B[38;5;124m'\u001B[39m\u001B[38;5;124mOMNI_Bz\u001B[39m\u001B[38;5;124m'\u001B[39m]\n\u001B[1;32m     12\u001B[0m win_duration \u001B[38;5;241m=\u001B[39m np\u001B[38;5;241m.\u001B[39mtimedelta64(\u001B[38;5;241m30\u001B[39m, \u001B[38;5;124m'\u001B[39m\u001B[38;5;124mm\u001B[39m\u001B[38;5;124m'\u001B[39m)\n\u001B[0;32m---> 14\u001B[0m windows \u001B[38;5;241m=\u001B[39m \u001B[43mWindowsEntangledMomentsSpectro\u001B[49m\u001B[43m(\u001B[49m\u001B[43mall_data\u001B[49m\u001B[43m,\u001B[49m\u001B[43m \u001B[49m\u001B[43mpos\u001B[49m\u001B[43m,\u001B[49m\u001B[43m \u001B[49m\u001B[43momni\u001B[49m\u001B[43m,\u001B[49m\u001B[43m \u001B[49m\u001B[43mwin_duration\u001B[49m\u001B[43m,\u001B[49m\u001B[43m \u001B[49m\u001B[43mspectro_features\u001B[49m\u001B[38;5;241;43m=\u001B[39;49m\u001B[43mspectro_features\u001B[49m\u001B[43m,\u001B[49m\u001B[43m \u001B[49m\u001B[43mmoments_features\u001B[49m\u001B[43m \u001B[49m\u001B[38;5;241;43m=\u001B[39;49m\u001B[43m \u001B[49m\u001B[43mmoments_features\u001B[49m\u001B[43m,\u001B[49m\u001B[43m \u001B[49m\u001B[43mis_prepared\u001B[49m\u001B[38;5;241;43m=\u001B[39;49m\u001B[38;5;28;43;01mTrue\u001B[39;49;00m\u001B[43m)\u001B[49m\n",
      "File \u001B[0;32m~/Documents/PycharmProjects/UTime/UTime/__init__.py:49\u001B[0m, in \u001B[0;36mDataForWindows.__init__\u001B[0;34m(self, all_data, position, omni_data, win_duration, moments_features, spectro_features, label, **kwargs)\u001B[0m\n\u001B[1;32m     46\u001B[0m \u001B[38;5;28mself\u001B[39m\u001B[38;5;241m.\u001B[39mwindows_indices \u001B[38;5;241m=\u001B[39m np\u001B[38;5;241m.\u001B[39marange(\u001B[38;5;28mlen\u001B[39m(\u001B[38;5;28mself\u001B[39m\u001B[38;5;241m.\u001B[39mdataset))[indices_windows]\n\u001B[1;32m     48\u001B[0m \u001B[38;5;28mself\u001B[39m\u001B[38;5;241m.\u001B[39mspectro_normalization_method \u001B[38;5;241m=\u001B[39m kwargs\u001B[38;5;241m.\u001B[39mget(\u001B[38;5;124m'\u001B[39m\u001B[38;5;124mspectro_normalization\u001B[39m\u001B[38;5;124m'\u001B[39m, \u001B[38;5;124m'\u001B[39m\u001B[38;5;124mper_channel\u001B[39m\u001B[38;5;124m'\u001B[39m)\n\u001B[0;32m---> 49\u001B[0m \u001B[38;5;28;43mself\u001B[39;49m\u001B[38;5;241;43m.\u001B[39;49m\u001B[43mnormalize\u001B[49m\u001B[43m(\u001B[49m\u001B[38;5;28;43mself\u001B[39;49m\u001B[38;5;241;43m.\u001B[39;49m\u001B[43mspectro_normalization_method\u001B[49m\u001B[43m)\u001B[49m\n",
      "File \u001B[0;32m~/Documents/PycharmProjects/UTime/UTime/__init__.py:91\u001B[0m, in \u001B[0;36mDataForWindows.normalize\u001B[0;34m(self, spectro_normalization, **kwargs)\u001B[0m\n\u001B[1;32m     89\u001B[0m \u001B[38;5;28;01mdef\u001B[39;00m \u001B[38;5;21mnormalize\u001B[39m(\u001B[38;5;28mself\u001B[39m, spectro_normalization, \u001B[38;5;241m*\u001B[39m\u001B[38;5;241m*\u001B[39mkwargs):\n\u001B[1;32m     90\u001B[0m     \u001B[38;5;28;01mif\u001B[39;00m spectro_normalization \u001B[38;5;241m==\u001B[39m \u001B[38;5;124m'\u001B[39m\u001B[38;5;124mper_channel\u001B[39m\u001B[38;5;124m'\u001B[39m:\n\u001B[0;32m---> 91\u001B[0m         \u001B[38;5;28mself\u001B[39m\u001B[38;5;241m.\u001B[39mdataset, \u001B[38;5;28mself\u001B[39m\u001B[38;5;241m.\u001B[39mscaler \u001B[38;5;241m=\u001B[39m \u001B[38;5;28;43mself\u001B[39;49m\u001B[38;5;241;43m.\u001B[39;49m\u001B[43mnormalize_per_channel\u001B[49m\u001B[43m(\u001B[49m\u001B[38;5;28;43mself\u001B[39;49m\u001B[38;5;241;43m.\u001B[39;49m\u001B[43mml_features\u001B[49m\u001B[43m,\u001B[49m\u001B[43m \u001B[49m\u001B[38;5;28;43mself\u001B[39;49m\u001B[38;5;241;43m.\u001B[39;49m\u001B[43mdataset\u001B[49m\u001B[43m)\u001B[49m\n\u001B[1;32m     92\u001B[0m         \u001B[38;5;28mself\u001B[39m\u001B[38;5;241m.\u001B[39mall_dataset, _ \u001B[38;5;241m=\u001B[39m \u001B[38;5;28mself\u001B[39m\u001B[38;5;241m.\u001B[39mnormalize_per_channel(\u001B[38;5;28mself\u001B[39m\u001B[38;5;241m.\u001B[39mml_features, \u001B[38;5;28mself\u001B[39m\u001B[38;5;241m.\u001B[39mall_dataset,\n\u001B[1;32m     93\u001B[0m                                                          scaler\u001B[38;5;241m=\u001B[39m\u001B[38;5;28mself\u001B[39m\u001B[38;5;241m.\u001B[39mscaler)\n\u001B[1;32m     95\u001B[0m     \u001B[38;5;28;01melif\u001B[39;00m spectro_normalization \u001B[38;5;241m==\u001B[39m \u001B[38;5;124m'\u001B[39m\u001B[38;5;124moverall\u001B[39m\u001B[38;5;124m'\u001B[39m:\n",
      "File \u001B[0;32m~/Documents/PycharmProjects/UTime/UTime/__init__.py:60\u001B[0m, in \u001B[0;36mDataForWindows.normalize_per_channel\u001B[0;34m(self, features, df, **kwargs)\u001B[0m\n\u001B[1;32m     58\u001B[0m \u001B[38;5;28;01mif\u001B[39;00m \u001B[38;5;124m'\u001B[39m\u001B[38;5;124mscaler\u001B[39m\u001B[38;5;124m'\u001B[39m \u001B[38;5;129;01mnot\u001B[39;00m \u001B[38;5;129;01min\u001B[39;00m kwargs:\n\u001B[1;32m     59\u001B[0m     scaler \u001B[38;5;241m=\u001B[39m StandardScaler()\n\u001B[0;32m---> 60\u001B[0m     \u001B[43mscaler\u001B[49m\u001B[38;5;241;43m.\u001B[39;49m\u001B[43mfit\u001B[49m\u001B[43m(\u001B[49m\u001B[43mdf\u001B[49m\u001B[38;5;241;43m.\u001B[39;49m\u001B[43mloc\u001B[49m\u001B[43m[\u001B[49m\u001B[43m:\u001B[49m\u001B[43m,\u001B[49m\u001B[43m \u001B[49m\u001B[43mfeatures\u001B[49m\u001B[43m]\u001B[49m\u001B[43m)\u001B[49m\n\u001B[1;32m     61\u001B[0m \u001B[38;5;28;01melse\u001B[39;00m:\n\u001B[1;32m     62\u001B[0m     scaler \u001B[38;5;241m=\u001B[39m kwargs[\u001B[38;5;124m'\u001B[39m\u001B[38;5;124mscaler\u001B[39m\u001B[38;5;124m'\u001B[39m]\n",
      "File \u001B[0;32m~/these_env/lib64/python3.10/site-packages/sklearn/preprocessing/_data.py:824\u001B[0m, in \u001B[0;36mStandardScaler.fit\u001B[0;34m(self, X, y, sample_weight)\u001B[0m\n\u001B[1;32m    822\u001B[0m \u001B[38;5;66;03m# Reset internal state before fitting\u001B[39;00m\n\u001B[1;32m    823\u001B[0m \u001B[38;5;28mself\u001B[39m\u001B[38;5;241m.\u001B[39m_reset()\n\u001B[0;32m--> 824\u001B[0m \u001B[38;5;28;01mreturn\u001B[39;00m \u001B[38;5;28;43mself\u001B[39;49m\u001B[38;5;241;43m.\u001B[39;49m\u001B[43mpartial_fit\u001B[49m\u001B[43m(\u001B[49m\u001B[43mX\u001B[49m\u001B[43m,\u001B[49m\u001B[43m \u001B[49m\u001B[43my\u001B[49m\u001B[43m,\u001B[49m\u001B[43m \u001B[49m\u001B[43msample_weight\u001B[49m\u001B[43m)\u001B[49m\n",
      "File \u001B[0;32m~/these_env/lib64/python3.10/site-packages/sklearn/preprocessing/_data.py:861\u001B[0m, in \u001B[0;36mStandardScaler.partial_fit\u001B[0;34m(self, X, y, sample_weight)\u001B[0m\n\u001B[1;32m    858\u001B[0m \u001B[38;5;28mself\u001B[39m\u001B[38;5;241m.\u001B[39m_validate_params()\n\u001B[1;32m    860\u001B[0m first_call \u001B[38;5;241m=\u001B[39m \u001B[38;5;129;01mnot\u001B[39;00m \u001B[38;5;28mhasattr\u001B[39m(\u001B[38;5;28mself\u001B[39m, \u001B[38;5;124m\"\u001B[39m\u001B[38;5;124mn_samples_seen_\u001B[39m\u001B[38;5;124m\"\u001B[39m)\n\u001B[0;32m--> 861\u001B[0m X \u001B[38;5;241m=\u001B[39m \u001B[38;5;28;43mself\u001B[39;49m\u001B[38;5;241;43m.\u001B[39;49m\u001B[43m_validate_data\u001B[49m\u001B[43m(\u001B[49m\n\u001B[1;32m    862\u001B[0m \u001B[43m    \u001B[49m\u001B[43mX\u001B[49m\u001B[43m,\u001B[49m\n\u001B[1;32m    863\u001B[0m \u001B[43m    \u001B[49m\u001B[43maccept_sparse\u001B[49m\u001B[38;5;241;43m=\u001B[39;49m\u001B[43m(\u001B[49m\u001B[38;5;124;43m\"\u001B[39;49m\u001B[38;5;124;43mcsr\u001B[39;49m\u001B[38;5;124;43m\"\u001B[39;49m\u001B[43m,\u001B[49m\u001B[43m \u001B[49m\u001B[38;5;124;43m\"\u001B[39;49m\u001B[38;5;124;43mcsc\u001B[39;49m\u001B[38;5;124;43m\"\u001B[39;49m\u001B[43m)\u001B[49m\u001B[43m,\u001B[49m\n\u001B[1;32m    864\u001B[0m \u001B[43m    \u001B[49m\u001B[43mdtype\u001B[49m\u001B[38;5;241;43m=\u001B[39;49m\u001B[43mFLOAT_DTYPES\u001B[49m\u001B[43m,\u001B[49m\n\u001B[1;32m    865\u001B[0m \u001B[43m    \u001B[49m\u001B[43mforce_all_finite\u001B[49m\u001B[38;5;241;43m=\u001B[39;49m\u001B[38;5;124;43m\"\u001B[39;49m\u001B[38;5;124;43mallow-nan\u001B[39;49m\u001B[38;5;124;43m\"\u001B[39;49m\u001B[43m,\u001B[49m\n\u001B[1;32m    866\u001B[0m \u001B[43m    \u001B[49m\u001B[43mreset\u001B[49m\u001B[38;5;241;43m=\u001B[39;49m\u001B[43mfirst_call\u001B[49m\u001B[43m,\u001B[49m\n\u001B[1;32m    867\u001B[0m \u001B[43m\u001B[49m\u001B[43m)\u001B[49m\n\u001B[1;32m    868\u001B[0m n_features \u001B[38;5;241m=\u001B[39m X\u001B[38;5;241m.\u001B[39mshape[\u001B[38;5;241m1\u001B[39m]\n\u001B[1;32m    870\u001B[0m \u001B[38;5;28;01mif\u001B[39;00m sample_weight \u001B[38;5;129;01mis\u001B[39;00m \u001B[38;5;129;01mnot\u001B[39;00m \u001B[38;5;28;01mNone\u001B[39;00m:\n",
      "File \u001B[0;32m~/these_env/lib64/python3.10/site-packages/sklearn/base.py:565\u001B[0m, in \u001B[0;36mBaseEstimator._validate_data\u001B[0;34m(self, X, y, reset, validate_separately, **check_params)\u001B[0m\n\u001B[1;32m    563\u001B[0m     \u001B[38;5;28;01mraise\u001B[39;00m \u001B[38;5;167;01mValueError\u001B[39;00m(\u001B[38;5;124m\"\u001B[39m\u001B[38;5;124mValidation should be done on X, y or both.\u001B[39m\u001B[38;5;124m\"\u001B[39m)\n\u001B[1;32m    564\u001B[0m \u001B[38;5;28;01melif\u001B[39;00m \u001B[38;5;129;01mnot\u001B[39;00m no_val_X \u001B[38;5;129;01mand\u001B[39;00m no_val_y:\n\u001B[0;32m--> 565\u001B[0m     X \u001B[38;5;241m=\u001B[39m \u001B[43mcheck_array\u001B[49m\u001B[43m(\u001B[49m\u001B[43mX\u001B[49m\u001B[43m,\u001B[49m\u001B[43m \u001B[49m\u001B[43minput_name\u001B[49m\u001B[38;5;241;43m=\u001B[39;49m\u001B[38;5;124;43m\"\u001B[39;49m\u001B[38;5;124;43mX\u001B[39;49m\u001B[38;5;124;43m\"\u001B[39;49m\u001B[43m,\u001B[49m\u001B[43m \u001B[49m\u001B[38;5;241;43m*\u001B[39;49m\u001B[38;5;241;43m*\u001B[39;49m\u001B[43mcheck_params\u001B[49m\u001B[43m)\u001B[49m\n\u001B[1;32m    566\u001B[0m     out \u001B[38;5;241m=\u001B[39m X\n\u001B[1;32m    567\u001B[0m \u001B[38;5;28;01melif\u001B[39;00m no_val_X \u001B[38;5;129;01mand\u001B[39;00m \u001B[38;5;129;01mnot\u001B[39;00m no_val_y:\n",
      "File \u001B[0;32m~/these_env/lib64/python3.10/site-packages/sklearn/utils/validation.py:931\u001B[0m, in \u001B[0;36mcheck_array\u001B[0;34m(array, accept_sparse, accept_large_sparse, dtype, order, copy, force_all_finite, ensure_2d, allow_nd, ensure_min_samples, ensure_min_features, estimator, input_name)\u001B[0m\n\u001B[1;32m    929\u001B[0m     n_samples \u001B[38;5;241m=\u001B[39m _num_samples(array)\n\u001B[1;32m    930\u001B[0m     \u001B[38;5;28;01mif\u001B[39;00m n_samples \u001B[38;5;241m<\u001B[39m ensure_min_samples:\n\u001B[0;32m--> 931\u001B[0m         \u001B[38;5;28;01mraise\u001B[39;00m \u001B[38;5;167;01mValueError\u001B[39;00m(\n\u001B[1;32m    932\u001B[0m             \u001B[38;5;124m\"\u001B[39m\u001B[38;5;124mFound array with \u001B[39m\u001B[38;5;132;01m%d\u001B[39;00m\u001B[38;5;124m sample(s) (shape=\u001B[39m\u001B[38;5;132;01m%s\u001B[39;00m\u001B[38;5;124m) while a\u001B[39m\u001B[38;5;124m\"\u001B[39m\n\u001B[1;32m    933\u001B[0m             \u001B[38;5;124m\"\u001B[39m\u001B[38;5;124m minimum of \u001B[39m\u001B[38;5;132;01m%d\u001B[39;00m\u001B[38;5;124m is required\u001B[39m\u001B[38;5;132;01m%s\u001B[39;00m\u001B[38;5;124m.\u001B[39m\u001B[38;5;124m\"\u001B[39m\n\u001B[1;32m    934\u001B[0m             \u001B[38;5;241m%\u001B[39m (n_samples, array\u001B[38;5;241m.\u001B[39mshape, ensure_min_samples, context)\n\u001B[1;32m    935\u001B[0m         )\n\u001B[1;32m    937\u001B[0m \u001B[38;5;28;01mif\u001B[39;00m ensure_min_features \u001B[38;5;241m>\u001B[39m \u001B[38;5;241m0\u001B[39m \u001B[38;5;129;01mand\u001B[39;00m array\u001B[38;5;241m.\u001B[39mndim \u001B[38;5;241m==\u001B[39m \u001B[38;5;241m2\u001B[39m:\n\u001B[1;32m    938\u001B[0m     n_features \u001B[38;5;241m=\u001B[39m array\u001B[38;5;241m.\u001B[39mshape[\u001B[38;5;241m1\u001B[39m]\n",
      "\u001B[0;31mValueError\u001B[0m: Found array with 0 sample(s) (shape=(0, 41)) while a minimum of 1 is required by StandardScaler."
     ]
    }
   ],
   "source": [
    "import pandas as pd\n",
    "import numpy as np\n",
    "from UTime import WindowsEntangledMomentsSpectro\n",
    "\n",
    "all_data = pd.read_pickle('data_reduced_for_pycharm.pkl')\n",
    "pos = pd.read_pickle('pos_reduced_for_pycharm.pkl')\n",
    "omni = pd.read_pickle('omni_reduced_for_pycharm.pkl')\n",
    "\n",
    "from UTime import Windows\n",
    "spectro_features = [f'spectro_{i}' for i in range(32)]\n",
    "moments_features = ['Bx', 'By', 'Bz', 'Vx', 'Vy', 'Vz', 'OMNI_Bx','OMNI_By','OMNI_Bz']\n",
    "win_duration = np.timedelta64(30, 'm')\n",
    "\n",
    "windows = WindowsEntangledMomentsSpectro(all_data, pos, omni, win_duration, spectro_features=spectro_features, moments_features = moments_features, is_prepared=True)"
   ],
   "metadata": {
    "collapsed": false,
    "ExecuteTime": {
     "end_time": "2024-07-02T15:21:58.187448Z",
     "start_time": "2024-07-02T15:21:56.991462Z"
    }
   },
   "id": "5f112ae718e2b904",
   "execution_count": 13
  },
  {
   "cell_type": "code",
   "outputs": [],
   "source": [
    "omni = omni.rename(columns={col:\"OMNI_\"+col for col in omni.columns})\n",
    "omni = omni.ffill().bfill()\n",
    "\n",
    "dataset = pd.concat([all_data, omni], axis = 1)"
   ],
   "metadata": {
    "collapsed": false,
    "ExecuteTime": {
     "end_time": "2024-07-02T07:35:32.603322Z",
     "start_time": "2024-07-02T07:35:32.580017Z"
    }
   },
   "id": "e7036087423aa635",
   "execution_count": 5
  },
  {
   "cell_type": "code",
   "outputs": [
    {
     "data": {
      "text/plain": "(array([False]), array([2154]))"
     },
     "execution_count": 10,
     "metadata": {},
     "output_type": "execute_result"
    }
   ],
   "source": [
    "def select_windows(df, condition):\n",
    "    \"\"\" Needs to have one for all the points of the window, not only for the last one!\n",
    "    Refactor flag function, and the counts of swapp.\"\"\"\n",
    "\n",
    "    if isinstance(condition, str):\n",
    "        if condition == ('all'):\n",
    "            return df\n",
    "        else:\n",
    "            return df[df[condition].values == True]\n",
    "    elif isinstance(condition, list):\n",
    "        if condition != []:\n",
    "            subdf = select_windows(df, condition[0])\n",
    "            return select_windows(subdf, condition[1:])\n",
    "        else:\n",
    "            return df\n",
    "    else:\n",
    "        raise Exception(\"Condition should be a string or a list of strings.\")\n",
    "\n",
    "np.unique(select_windows(dataset, ['isFull_select']).isDayside_select.values, return_counts=True)"
   ],
   "metadata": {
    "collapsed": false,
    "ExecuteTime": {
     "end_time": "2024-07-02T07:39:09.896408Z",
     "start_time": "2024-07-02T07:39:09.891101Z"
    }
   },
   "id": "31cbdb19f2acb6a",
   "execution_count": 10
  },
  {
   "cell_type": "code",
   "outputs": [
    {
     "data": {
      "text/plain": "                          Bx         By        Bz  Np  Vx  Vy  Vz  Tp  \\\n2015-09-21 21:44:40 -1.94710  45.149450  33.88825 NaN NaN NaN NaN NaN   \n2015-09-21 21:44:45 -1.94710  45.072550  33.88825 NaN NaN NaN NaN NaN   \n2015-09-21 21:44:50 -2.09040  45.063125  33.89925 NaN NaN NaN NaN NaN   \n2015-09-21 21:44:55 -2.29380  45.063125  33.89925 NaN NaN NaN NaN NaN   \n2015-09-21 21:45:00 -2.46705  45.145350  33.84700 NaN NaN NaN NaN NaN   \n...                      ...        ...       ...  ..  ..  ..  ..  ..   \n2015-09-24 02:59:35      NaN        NaN       NaN NaN NaN NaN NaN NaN   \n2015-09-24 02:59:40      NaN        NaN       NaN NaN NaN NaN NaN NaN   \n2015-09-24 02:59:45      NaN        NaN       NaN NaN NaN NaN NaN NaN   \n2015-09-24 02:59:50      NaN        NaN       NaN NaN NaN NaN NaN NaN   \n2015-09-24 02:59:55      NaN        NaN       NaN NaN NaN NaN NaN NaN   \n\n                     spectro_0  spectro_1  ...    OMNI_Vy   OMNI_Vz  OMNI_Tp  \\\n2015-09-21 21:44:40        NaN        NaN  ... -28.036837 -0.392665  70990.0   \n2015-09-21 21:44:45        NaN        NaN  ... -28.036837 -0.392665  70990.0   \n2015-09-21 21:44:50        NaN        NaN  ... -28.036837 -0.392665  70990.0   \n2015-09-21 21:44:55        NaN        NaN  ... -28.036837 -0.392665  70990.0   \n2015-09-21 21:45:00        NaN        NaN  ... -28.036837 -0.392665  70990.0   \n...                        ...        ...  ...        ...       ...      ...   \n2015-09-24 02:59:35        NaN        NaN  ...   8.543120  2.635167  62508.0   \n2015-09-24 02:59:40        NaN        NaN  ...   8.543120  2.635167  62508.0   \n2015-09-24 02:59:45        NaN        NaN  ...   8.543120  2.635167  62508.0   \n2015-09-24 02:59:50        NaN        NaN  ...   8.543120  2.635167  62508.0   \n2015-09-24 02:59:55        NaN        NaN  ...   8.543120  2.635167  62508.0   \n\n                     OMNI_Pd  OMNI_Beta  OMNI_Ma    OMNI_B      OMNI_V  \\\n2015-09-21 21:44:40     2.16       1.84     11.5  4.492004  488.106042   \n2015-09-21 21:44:45     2.16       1.84     11.5  4.492004  488.106042   \n2015-09-21 21:44:50     2.16       1.84     11.5  4.492004  488.106042   \n2015-09-21 21:44:55     2.16       1.84     11.5  4.492004  488.106042   \n2015-09-21 21:45:00     2.16       1.84     11.5  4.492004  488.106042   \n...                      ...        ...      ...       ...         ...   \n2015-09-24 02:59:35     2.21       0.75      6.8  7.737984  441.790470   \n2015-09-24 02:59:40     2.21       0.75      6.8  7.737984  441.790470   \n2015-09-24 02:59:45     2.21       0.75      6.8  7.737984  441.790470   \n2015-09-24 02:59:50     2.21       0.75      6.8  7.737984  441.790470   \n2015-09-24 02:59:55     2.21       0.75      6.8  7.737984  441.790470   \n\n                     OMNI_COA  OMNI_CLA  \n2015-09-21 21:44:40 -0.610723  0.458439  \n2015-09-21 21:44:45 -0.610723  0.458439  \n2015-09-21 21:44:50 -0.610723  0.458439  \n2015-09-21 21:44:55 -0.610723  0.458439  \n2015-09-21 21:45:00 -0.610723  0.458439  \n...                       ...       ...  \n2015-09-24 02:59:35  1.054493  1.894427  \n2015-09-24 02:59:40  1.054493  1.894427  \n2015-09-24 02:59:45  1.054493  1.894427  \n2015-09-24 02:59:50  1.054493  1.894427  \n2015-09-24 02:59:55  1.054493  1.894427  \n\n[2154 rows x 89 columns]",
      "text/html": "<div>\n<style scoped>\n    .dataframe tbody tr th:only-of-type {\n        vertical-align: middle;\n    }\n\n    .dataframe tbody tr th {\n        vertical-align: top;\n    }\n\n    .dataframe thead th {\n        text-align: right;\n    }\n</style>\n<table border=\"1\" class=\"dataframe\">\n  <thead>\n    <tr style=\"text-align: right;\">\n      <th></th>\n      <th>Bx</th>\n      <th>By</th>\n      <th>Bz</th>\n      <th>Np</th>\n      <th>Vx</th>\n      <th>Vy</th>\n      <th>Vz</th>\n      <th>Tp</th>\n      <th>spectro_0</th>\n      <th>spectro_1</th>\n      <th>...</th>\n      <th>OMNI_Vy</th>\n      <th>OMNI_Vz</th>\n      <th>OMNI_Tp</th>\n      <th>OMNI_Pd</th>\n      <th>OMNI_Beta</th>\n      <th>OMNI_Ma</th>\n      <th>OMNI_B</th>\n      <th>OMNI_V</th>\n      <th>OMNI_COA</th>\n      <th>OMNI_CLA</th>\n    </tr>\n  </thead>\n  <tbody>\n    <tr>\n      <th>2015-09-21 21:44:40</th>\n      <td>-1.94710</td>\n      <td>45.149450</td>\n      <td>33.88825</td>\n      <td>NaN</td>\n      <td>NaN</td>\n      <td>NaN</td>\n      <td>NaN</td>\n      <td>NaN</td>\n      <td>NaN</td>\n      <td>NaN</td>\n      <td>...</td>\n      <td>-28.036837</td>\n      <td>-0.392665</td>\n      <td>70990.0</td>\n      <td>2.16</td>\n      <td>1.84</td>\n      <td>11.5</td>\n      <td>4.492004</td>\n      <td>488.106042</td>\n      <td>-0.610723</td>\n      <td>0.458439</td>\n    </tr>\n    <tr>\n      <th>2015-09-21 21:44:45</th>\n      <td>-1.94710</td>\n      <td>45.072550</td>\n      <td>33.88825</td>\n      <td>NaN</td>\n      <td>NaN</td>\n      <td>NaN</td>\n      <td>NaN</td>\n      <td>NaN</td>\n      <td>NaN</td>\n      <td>NaN</td>\n      <td>...</td>\n      <td>-28.036837</td>\n      <td>-0.392665</td>\n      <td>70990.0</td>\n      <td>2.16</td>\n      <td>1.84</td>\n      <td>11.5</td>\n      <td>4.492004</td>\n      <td>488.106042</td>\n      <td>-0.610723</td>\n      <td>0.458439</td>\n    </tr>\n    <tr>\n      <th>2015-09-21 21:44:50</th>\n      <td>-2.09040</td>\n      <td>45.063125</td>\n      <td>33.89925</td>\n      <td>NaN</td>\n      <td>NaN</td>\n      <td>NaN</td>\n      <td>NaN</td>\n      <td>NaN</td>\n      <td>NaN</td>\n      <td>NaN</td>\n      <td>...</td>\n      <td>-28.036837</td>\n      <td>-0.392665</td>\n      <td>70990.0</td>\n      <td>2.16</td>\n      <td>1.84</td>\n      <td>11.5</td>\n      <td>4.492004</td>\n      <td>488.106042</td>\n      <td>-0.610723</td>\n      <td>0.458439</td>\n    </tr>\n    <tr>\n      <th>2015-09-21 21:44:55</th>\n      <td>-2.29380</td>\n      <td>45.063125</td>\n      <td>33.89925</td>\n      <td>NaN</td>\n      <td>NaN</td>\n      <td>NaN</td>\n      <td>NaN</td>\n      <td>NaN</td>\n      <td>NaN</td>\n      <td>NaN</td>\n      <td>...</td>\n      <td>-28.036837</td>\n      <td>-0.392665</td>\n      <td>70990.0</td>\n      <td>2.16</td>\n      <td>1.84</td>\n      <td>11.5</td>\n      <td>4.492004</td>\n      <td>488.106042</td>\n      <td>-0.610723</td>\n      <td>0.458439</td>\n    </tr>\n    <tr>\n      <th>2015-09-21 21:45:00</th>\n      <td>-2.46705</td>\n      <td>45.145350</td>\n      <td>33.84700</td>\n      <td>NaN</td>\n      <td>NaN</td>\n      <td>NaN</td>\n      <td>NaN</td>\n      <td>NaN</td>\n      <td>NaN</td>\n      <td>NaN</td>\n      <td>...</td>\n      <td>-28.036837</td>\n      <td>-0.392665</td>\n      <td>70990.0</td>\n      <td>2.16</td>\n      <td>1.84</td>\n      <td>11.5</td>\n      <td>4.492004</td>\n      <td>488.106042</td>\n      <td>-0.610723</td>\n      <td>0.458439</td>\n    </tr>\n    <tr>\n      <th>...</th>\n      <td>...</td>\n      <td>...</td>\n      <td>...</td>\n      <td>...</td>\n      <td>...</td>\n      <td>...</td>\n      <td>...</td>\n      <td>...</td>\n      <td>...</td>\n      <td>...</td>\n      <td>...</td>\n      <td>...</td>\n      <td>...</td>\n      <td>...</td>\n      <td>...</td>\n      <td>...</td>\n      <td>...</td>\n      <td>...</td>\n      <td>...</td>\n      <td>...</td>\n      <td>...</td>\n    </tr>\n    <tr>\n      <th>2015-09-24 02:59:35</th>\n      <td>NaN</td>\n      <td>NaN</td>\n      <td>NaN</td>\n      <td>NaN</td>\n      <td>NaN</td>\n      <td>NaN</td>\n      <td>NaN</td>\n      <td>NaN</td>\n      <td>NaN</td>\n      <td>NaN</td>\n      <td>...</td>\n      <td>8.543120</td>\n      <td>2.635167</td>\n      <td>62508.0</td>\n      <td>2.21</td>\n      <td>0.75</td>\n      <td>6.8</td>\n      <td>7.737984</td>\n      <td>441.790470</td>\n      <td>1.054493</td>\n      <td>1.894427</td>\n    </tr>\n    <tr>\n      <th>2015-09-24 02:59:40</th>\n      <td>NaN</td>\n      <td>NaN</td>\n      <td>NaN</td>\n      <td>NaN</td>\n      <td>NaN</td>\n      <td>NaN</td>\n      <td>NaN</td>\n      <td>NaN</td>\n      <td>NaN</td>\n      <td>NaN</td>\n      <td>...</td>\n      <td>8.543120</td>\n      <td>2.635167</td>\n      <td>62508.0</td>\n      <td>2.21</td>\n      <td>0.75</td>\n      <td>6.8</td>\n      <td>7.737984</td>\n      <td>441.790470</td>\n      <td>1.054493</td>\n      <td>1.894427</td>\n    </tr>\n    <tr>\n      <th>2015-09-24 02:59:45</th>\n      <td>NaN</td>\n      <td>NaN</td>\n      <td>NaN</td>\n      <td>NaN</td>\n      <td>NaN</td>\n      <td>NaN</td>\n      <td>NaN</td>\n      <td>NaN</td>\n      <td>NaN</td>\n      <td>NaN</td>\n      <td>...</td>\n      <td>8.543120</td>\n      <td>2.635167</td>\n      <td>62508.0</td>\n      <td>2.21</td>\n      <td>0.75</td>\n      <td>6.8</td>\n      <td>7.737984</td>\n      <td>441.790470</td>\n      <td>1.054493</td>\n      <td>1.894427</td>\n    </tr>\n    <tr>\n      <th>2015-09-24 02:59:50</th>\n      <td>NaN</td>\n      <td>NaN</td>\n      <td>NaN</td>\n      <td>NaN</td>\n      <td>NaN</td>\n      <td>NaN</td>\n      <td>NaN</td>\n      <td>NaN</td>\n      <td>NaN</td>\n      <td>NaN</td>\n      <td>...</td>\n      <td>8.543120</td>\n      <td>2.635167</td>\n      <td>62508.0</td>\n      <td>2.21</td>\n      <td>0.75</td>\n      <td>6.8</td>\n      <td>7.737984</td>\n      <td>441.790470</td>\n      <td>1.054493</td>\n      <td>1.894427</td>\n    </tr>\n    <tr>\n      <th>2015-09-24 02:59:55</th>\n      <td>NaN</td>\n      <td>NaN</td>\n      <td>NaN</td>\n      <td>NaN</td>\n      <td>NaN</td>\n      <td>NaN</td>\n      <td>NaN</td>\n      <td>NaN</td>\n      <td>NaN</td>\n      <td>NaN</td>\n      <td>...</td>\n      <td>8.543120</td>\n      <td>2.635167</td>\n      <td>62508.0</td>\n      <td>2.21</td>\n      <td>0.75</td>\n      <td>6.8</td>\n      <td>7.737984</td>\n      <td>441.790470</td>\n      <td>1.054493</td>\n      <td>1.894427</td>\n    </tr>\n  </tbody>\n</table>\n<p>2154 rows × 89 columns</p>\n</div>"
     },
     "execution_count": 9,
     "metadata": {},
     "output_type": "execute_result"
    }
   ],
   "source": [
    "select_windows(dataset, ['isDayside_select'])\n"
   ],
   "metadata": {
    "collapsed": false,
    "ExecuteTime": {
     "end_time": "2024-07-02T07:37:51.854602Z",
     "start_time": "2024-07-02T07:37:51.843549Z"
    }
   },
   "id": "566210b8412c04bc",
   "execution_count": 9
  },
  {
   "cell_type": "code",
   "outputs": [
    {
     "data": {
      "text/plain": "Architecture()"
     },
     "execution_count": 5,
     "metadata": {},
     "output_type": "execute_result"
    }
   ],
   "source": [
    "from UTime.architecture import Architecture\n",
    "    \n",
    "Architecture(1,\n",
    "        30,\n",
    "                 10,\n",
    "                 32,\n",
    "                 5,\n",
    "                 16,\n",
    "                 5,\n",
    "                 2, plot_ROC=True)"
   ],
   "metadata": {
    "collapsed": false,
    "ExecuteTime": {
     "end_time": "2024-06-10T14:03:19.900524Z",
     "start_time": "2024-06-10T14:03:19.895872Z"
    }
   },
   "id": "2e326a47f72e660a",
   "execution_count": 5
  },
  {
   "cell_type": "code",
   "outputs": [
    {
     "data": {
      "text/plain": "UTime(\n  (encoder): Sequential(\n    (0): Sequential(\n      (0): Dropout(p=0, inplace=False)\n      (1): Conv2d(10, 16, kernel_size=(1, 5), stride=(1, 1), padding=same)\n      (2): BatchNorm2d(16, eps=1e-05, momentum=0.1, affine=True, track_running_stats=True)\n      (3): ReLU(inplace=True)\n    )\n    (1): Sequential(\n      (0): MaxPool2d(kernel_size=(1, 2), stride=(1, 2), padding=0, dilation=1, ceil_mode=False)\n    )\n    (2): Sequential(\n      (0): Dropout(p=0, inplace=False)\n      (1): Conv2d(16, 32, kernel_size=(1, 5), stride=(1, 1), padding=same)\n      (2): BatchNorm2d(32, eps=1e-05, momentum=0.1, affine=True, track_running_stats=True)\n      (3): ReLU(inplace=True)\n    )\n    (3): Sequential(\n      (0): MaxPool2d(kernel_size=(1, 2), stride=(1, 2), padding=0, dilation=1, ceil_mode=False)\n    )\n    (4): Sequential(\n      (0): Dropout(p=0, inplace=False)\n      (1): Conv2d(32, 64, kernel_size=(1, 5), stride=(1, 1), padding=same)\n      (2): BatchNorm2d(64, eps=1e-05, momentum=0.1, affine=True, track_running_stats=True)\n      (3): ReLU(inplace=True)\n    )\n    (5): Sequential(\n      (0): MaxPool2d(kernel_size=(1, 2), stride=(1, 2), padding=0, dilation=1, ceil_mode=False)\n    )\n    (6): Sequential(\n      (0): Dropout(p=0, inplace=False)\n      (1): Conv2d(64, 128, kernel_size=(1, 5), stride=(1, 1), padding=same)\n      (2): BatchNorm2d(128, eps=1e-05, momentum=0.1, affine=True, track_running_stats=True)\n      (3): ReLU(inplace=True)\n    )\n    (7): Sequential(\n      (0): MaxPool2d(kernel_size=(1, 2), stride=(1, 2), padding=0, dilation=1, ceil_mode=False)\n    )\n    (8): Sequential(\n      (0): Dropout(p=0, inplace=False)\n      (1): Conv2d(128, 256, kernel_size=(1, 5), stride=(1, 1), padding=same)\n      (2): BatchNorm2d(256, eps=1e-05, momentum=0.1, affine=True, track_running_stats=True)\n      (3): ReLU(inplace=True)\n    )\n  )\n  (encoder2D): Sequential(\n    (0): Sequential(\n      (0): Dropout(p=0, inplace=False)\n      (1): Conv2d(1, 16, kernel_size=(5, 5), stride=(1, 1), padding=same)\n      (2): BatchNorm2d(16, eps=1e-05, momentum=0.1, affine=True, track_running_stats=True)\n      (3): ReLU(inplace=True)\n    )\n    (1): Sequential(\n      (0): MaxPool2d(kernel_size=(2, 2), stride=(2, 2), padding=0, dilation=1, ceil_mode=False)\n    )\n    (2): Sequential(\n      (0): Dropout(p=0, inplace=False)\n      (1): Conv2d(16, 32, kernel_size=(5, 5), stride=(1, 1), padding=same)\n      (2): BatchNorm2d(32, eps=1e-05, momentum=0.1, affine=True, track_running_stats=True)\n      (3): ReLU(inplace=True)\n    )\n    (3): Sequential(\n      (0): MaxPool2d(kernel_size=(2, 2), stride=(2, 2), padding=0, dilation=1, ceil_mode=False)\n    )\n    (4): Sequential(\n      (0): Dropout(p=0, inplace=False)\n      (1): Conv2d(32, 64, kernel_size=(5, 5), stride=(1, 1), padding=same)\n      (2): BatchNorm2d(64, eps=1e-05, momentum=0.1, affine=True, track_running_stats=True)\n      (3): ReLU(inplace=True)\n    )\n    (5): Sequential(\n      (0): MaxPool2d(kernel_size=(2, 2), stride=(2, 2), padding=0, dilation=1, ceil_mode=False)\n    )\n    (6): Sequential(\n      (0): Dropout(p=0, inplace=False)\n      (1): Conv2d(64, 128, kernel_size=(5, 5), stride=(1, 1), padding=same)\n      (2): BatchNorm2d(128, eps=1e-05, momentum=0.1, affine=True, track_running_stats=True)\n      (3): ReLU(inplace=True)\n    )\n    (7): Sequential(\n      (0): MaxPool2d(kernel_size=(2, 2), stride=(2, 2), padding=0, dilation=1, ceil_mode=False)\n    )\n    (8): Sequential(\n      (0): Dropout(p=0, inplace=False)\n      (1): Conv2d(128, 256, kernel_size=(5, 5), stride=(1, 1), padding=same)\n      (2): BatchNorm2d(256, eps=1e-05, momentum=0.1, affine=True, track_running_stats=True)\n      (3): ReLU(inplace=True)\n    )\n  )\n  (common_encoder): Sequential(\n    (0): Conv2d(512, 256, kernel_size=(1, 5), stride=(1, 1), padding=same)\n  )\n  (decoder): Sequential(\n    (0): Upsample(size=(1, 3), mode='nearest')\n    (1): Dropout(p=0, inplace=False)\n    (2): Conv2d(512, 128, kernel_size=(1, 5), stride=(1, 1), padding=same)\n    (3): BatchNorm2d(128, eps=1e-05, momentum=0.1, affine=True, track_running_stats=True)\n    (4): ReLU(inplace=True)\n    (5): Upsample(size=(1, 7), mode='nearest')\n    (6): Dropout(p=0, inplace=False)\n    (7): Conv2d(256, 64, kernel_size=(1, 5), stride=(1, 1), padding=same)\n    (8): BatchNorm2d(64, eps=1e-05, momentum=0.1, affine=True, track_running_stats=True)\n    (9): ReLU(inplace=True)\n    (10): Upsample(size=(1, 15), mode='nearest')\n    (11): Dropout(p=0, inplace=False)\n    (12): Conv2d(128, 32, kernel_size=(1, 5), stride=(1, 1), padding=same)\n    (13): BatchNorm2d(32, eps=1e-05, momentum=0.1, affine=True, track_running_stats=True)\n    (14): ReLU(inplace=True)\n    (15): Upsample(size=(1, 30), mode='nearest')\n    (16): Dropout(p=0, inplace=False)\n    (17): Conv2d(64, 16, kernel_size=(1, 5), stride=(1, 1), padding=same)\n    (18): BatchNorm2d(16, eps=1e-05, momentum=0.1, affine=True, track_running_stats=True)\n    (19): ReLU(inplace=True)\n  )\n  (classifier): Sequential(\n    (0): Dropout(p=0, inplace=False)\n    (1): Conv2d(16, 1, kernel_size=(1, 1), stride=(1, 1))\n    (2): BatchNorm2d(1, eps=1e-05, momentum=0.1, affine=True, track_running_stats=True)\n    (3): Sigmoid()\n  )\n)"
     },
     "execution_count": 1,
     "metadata": {},
     "output_type": "execute_result"
    }
   ],
   "source": [
    "from UTime.UTime import UTime\n",
    "    \n",
    "UTime(1,\n",
    "        30,\n",
    "                 10,\n",
    "                 32,\n",
    "                 5,\n",
    "                 16,\n",
    "                 5,\n",
    "                 2, plot_ROC=True)"
   ],
   "metadata": {
    "collapsed": false,
    "ExecuteTime": {
     "end_time": "2024-06-10T14:08:00.305452Z",
     "start_time": "2024-06-10T14:07:58.634786Z"
    }
   },
   "id": "2c7acdd52e810e9a",
   "execution_count": 1
  },
  {
   "cell_type": "code",
   "outputs": [
    {
     "data": {
      "text/plain": "-1"
     },
     "execution_count": 1,
     "metadata": {},
     "output_type": "execute_result"
    }
   ],
   "source": [
    "(-1)//2"
   ],
   "metadata": {
    "collapsed": false,
    "ExecuteTime": {
     "end_time": "2024-06-06T13:57:52.736944Z",
     "start_time": "2024-06-06T13:57:52.731343Z"
    }
   },
   "id": "5121698f6a5c1f50",
   "execution_count": 1
  },
  {
   "cell_type": "code",
   "outputs": [
    {
     "data": {
      "text/plain": "tensor([[[[0.7718, 0.6049, 0.4929, 0.3447, 0.4552, 0.7978, 0.6785, 0.7578,\n           0.7357, 0.7228, 0.8889, 0.4564, 0.3131, 0.1722, 0.1575, 0.7353,\n           0.8374, 0.4741, 0.7447, 0.7362, 0.6134, 0.4891, 0.3927, 0.3684,\n           0.3132, 0.2019, 0.1360, 0.3547, 0.4785, 0.1334, 0.5671, 0.5563,\n           0.4939, 0.3703, 0.3694, 0.6733, 0.2613, 0.2328, 0.7059, 0.7920,\n           0.4671, 0.5951, 0.1805, 0.9034, 0.4755, 0.1978, 0.2298, 0.2665,\n           0.8161, 0.9028, 0.4355, 0.7428, 0.3838, 0.3765, 0.1903, 0.4212,\n           0.2838, 0.6184, 0.5107, 0.7803, 0.8684, 0.8348, 0.4777, 0.2774,\n           0.5514, 0.5672, 0.7079, 0.6258, 0.2006, 0.1642, 0.4701, 0.9202,\n           0.4467, 0.4731, 0.4368, 0.4238, 0.3645, 0.5417, 0.6162, 0.5954,\n           0.2146, 0.2033, 0.6076, 0.2130, 0.7925, 0.4750, 0.6077, 0.3575,\n           0.7505, 0.6066, 0.4169, 0.4494, 0.5001, 0.7058, 0.1407, 0.2887,\n           0.3472, 0.9321, 0.2654, 0.6238, 0.4424, 0.2636, 0.4920, 0.3870,\n           0.1413, 0.7155, 0.4644, 0.7091, 0.6135, 0.7252, 0.6120, 0.4830,\n           0.3860, 0.7162, 0.6834, 0.8263, 0.3345, 0.2792, 0.3602, 0.2941,\n           0.4491, 0.2041, 0.6386, 0.3395, 0.5712, 0.2489, 0.3681, 0.6004,\n           0.5729, 0.6022, 0.5024, 0.6725, 0.7043, 0.4924, 0.2741, 0.5124,\n           0.6215, 0.7020, 0.2650, 0.2214, 0.4719, 0.4020, 0.4725, 0.6413,\n           0.1949, 0.8510, 0.6628, 0.6092, 0.4515, 0.6088, 0.2792, 0.2859,\n           0.1918, 0.4875, 0.5008, 0.3037, 0.2821, 0.2457, 0.2072, 0.3798,\n           0.3508, 0.9268, 0.3774, 0.0655, 0.6638, 0.7365, 0.5083, 0.7257,\n           0.2699, 0.2292, 0.6964, 0.6117, 0.5021, 0.6784, 0.4227, 0.5782,\n           0.5170, 0.7268, 0.8548, 0.8640, 0.2052, 0.4479, 0.4037, 0.2180,\n           0.6091, 0.5933, 0.6543, 0.7166, 0.6368, 0.6066, 0.3094, 0.7377,\n           0.7757, 0.2878, 0.7469, 0.3866, 0.2982, 0.6161, 0.5875, 0.7826,\n           0.3300, 0.2685, 0.1010, 0.1654, 0.5106, 0.7765, 0.7815, 0.5677,\n           0.3984, 0.6695, 0.7355, 0.4380, 0.6554, 0.8699, 0.5217, 0.7337,\n           0.3190, 0.6111, 0.4055, 0.3792, 0.4815, 0.4794, 0.5089, 0.3488,\n           0.7551, 0.5215, 0.6368, 0.4509, 0.1600, 0.3960, 0.3112, 0.5097,\n           0.6155, 0.6535, 0.6234, 0.3535, 0.4377, 0.6625, 0.1336, 0.4316,\n           0.8283, 0.2636, 0.4569, 0.1478, 0.0669, 0.3961, 0.3304, 0.3222,\n           0.7181, 0.7640, 0.5723, 0.5061, 0.4965, 0.7867, 0.0744, 0.4815,\n           0.2816, 0.1697, 0.7068, 0.3835, 0.6119, 0.6027, 0.5883, 0.8730,\n           0.4536, 0.2512, 0.2067, 0.4723, 0.5227, 0.7038, 0.6038, 0.2637,\n           0.1324, 0.7193, 0.7180, 0.7179, 0.1492, 0.7513, 0.1457, 0.6464,\n           0.7424, 0.5495, 0.5711, 0.2878, 0.3792, 0.3239, 0.1924, 0.6688,\n           0.4502, 0.8799, 0.7340, 0.7224, 0.2454, 0.1342, 0.7174, 0.6407,\n           0.7778, 0.8446, 0.8459, 0.6788]]]], dtype=torch.float64,\n       grad_fn=<SigmoidBackward0>)"
     },
     "execution_count": 1,
     "metadata": {},
     "output_type": "execute_result"
    }
   ],
   "source": [
    "import torch\n",
    "from UTime.architectureResNet import UTime\n",
    "import numpy as np\n",
    "\n",
    "utime = UTime(1, 300, 8, 32, 2, 5, 3, 2).double()\n",
    "moments = torch.tensor(np.random.rand(1,8,1,300)).double()\n",
    "spectro = torch.tensor(np.random.rand(1,1,32,300)).double()\n",
    "utime.forward((moments,spectro))"
   ],
   "metadata": {
    "collapsed": false,
    "ExecuteTime": {
     "end_time": "2024-05-08T14:46:20.105789Z",
     "start_time": "2024-05-08T14:46:18.614359Z"
    }
   },
   "id": "d765f9bf5dd337b9",
   "execution_count": 1
  },
  {
   "cell_type": "code",
   "outputs": [],
   "source": [
    "training = Training(model, 2000, dl_train, dltest = dl_test, dlval=dl_test, validation=True,     # To make it more general, get those parameters from kwargs?\n",
    "                                       learning_rate=0.001, verbose_plot = True if iter==0 else False, mirrored = True)"
   ],
   "metadata": {
    "collapsed": false
   },
   "id": "79ecd972a2fd3f16"
  },
  {
   "cell_type": "code",
   "outputs": [
    {
     "data": {
      "text/plain": "<Figure size 640x480 with 1 Axes>",
      "image/png": "[encoded data removed]"
     },
     "metadata": {},
     "output_type": "display_data"
    }
   ],
   "source": [
    "import matplotlib.pyplot as plt\n",
    "import numpy as np\n",
    "#import matplotlib\n",
    "#matplotlib.rcParams[\"text.usetex\"] = False\n",
    "mu_0 = 1.25663706 * 10**(-6)\n",
    "\n",
    "def draw_HT(V_sh=10**(-2), B_MSP=10, B_MSH=1, rho_MSP=1, rho_MSH=4):\n",
    "    dx = 3\n",
    "    dy = 3\n",
    "    plt.figure()\n",
    "    plt.plot(np.linspace(-dx, dx, 100), np.zeros(100), linestyle = '--', alpha = 0.8, color = 'grey')\n",
    "    plt.plot(np.linspace(0, dx, 100), np.linspace(dy/20, dy, 100), alpha = 0.8, color = 'grey')\n",
    "    plt.plot(np.linspace(0, -dx, 100), np.linspace(dy/20, dy, 100), alpha = 0.8, color = 'grey')\n",
    "    plt.plot(np.linspace(0, dx, 100), -np.linspace(dy/20, dy, 100), alpha = 0.8, color = 'grey')\n",
    "    plt.plot(np.linspace(0, -dx, 100), -np.linspace(dy/20, dy, 100), alpha = 0.8, color = 'grey')\n",
    "    \n",
    "    # Direction of B \n",
    "    plt.arrow(0.9*dx, -0.9*dy, -dx/100, dy/100, color = 'grey', head_width=0.2, overhang = 0.5)\n",
    "    plt.arrow(-0.85*dx, -0.85*dy, -dx/100, -dy/100, color = 'grey', head_width=0.2, overhang = 0.5)\n",
    "    plt.arrow(0.85*dx, 0.85*dy, dx/100, dy/100, color = 'grey', head_width=0.2, overhang = 0.5)\n",
    "    plt.arrow(-0.9*dx, 0.9*dy, dx/100, -dy/100, color = 'grey', head_width=0.2, overhang = 0.5)\n",
    "     \n",
    "    # V_SH\n",
    "    plt.arrow(-V_sh/2, dy, V_sh, 0, head_width=0.2, overhang = 0.5)\n",
    "    plt.text(0, dy*0.9, '$V_{sh}$', horizontalalignment = 'center')\n",
    "    \n",
    "    # Alfven speed\n",
    "    V_a_MSH = B_MSH/np.sqrt(mu_0*rho_MSH)\n",
    "    V_a_MSHx = V_a_MSH*np.cos(np.arctan(dy/dx))\n",
    "    V_a_MSHy = V_a_MSH*np.sin(np.arctan(dy/dx))\n",
    "\n",
    "    V_a_MSP = B_MSP/np.sqrt(mu_0*rho_MSP)\n",
    "    V_a_MSPx = V_a_MSP*np.cos(np.arctan(dy/dx))\n",
    "    V_a_MSPy = V_a_MSP*np.sin(np.arctan(dy/dx))\n",
    "    \n",
    "    plt.arrow(dx, dy, V_a_MSHx, V_a_MSHy, head_width=0.2, overhang = 0.5, color = 'red')\n",
    "    plt.arrow(-dx, dy, V_a_MSHx, -V_a_MSHy, head_width=0.2, overhang = 0.5, color = 'red')\n",
    "    plt.arrow(dx, -dy, V_a_MSPx, -V_a_MSHy, head_width=0.2, overhang = 0.5, color = 'red')\n",
    "    plt.arrow(-dx, -dy, V_a_MSPx, V_a_MSPy, head_width=0.2, overhang = 0.5, color = 'red')\n",
    "\n",
    "    plt.text(0, -2*dy, 'MSP', ha = 'center')\n",
    "    plt.text(0, 2*dy, 'MSH', ha = 'center')\n",
    "\n",
    "    plt.show()\n",
    "    \n",
    "draw_HT()"
   ],
   "metadata": {
    "collapsed": false,
    "ExecuteTime": {
     "end_time": "2024-05-02T13:45:23.987329Z",
     "start_time": "2024-05-02T13:45:23.213709Z"
    }
   },
   "id": "180554667c5a8cc0",
   "execution_count": 48
  },
  {
   "cell_type": "code",
   "outputs": [],
   "source": [
    "import matplotlib.pyplot as plt\n",
    "import numpy as np\n",
    "\n",
    "def plot_field_lines(dx, alpha):\n",
    "    dy = dx*np.tan(alpha)\n",
    "    plt.plot(np.linspace(-dx, dx, 100), np.zeros(100), linestyle = '--', alpha = 0.8, color = 'grey')\n",
    "    plt.plot(np.linspace(0, dx, 100), np.linspace(0, dy, 100), alpha = 0.8, color = 'grey')\n",
    "    plt.plot(np.linspace(0, -dx, 100), np.linspace(0, dy, 100), alpha = 0.8, color = 'grey')\n",
    "    plt.plot(np.linspace(0, dx, 100), -np.linspace(0, dy, 100), alpha = 0.8, color = 'grey')\n",
    "    plt.plot(np.linspace(0, -dx, 100), -np.linspace(0, dy, 100), alpha = 0.8, color = 'grey')\n",
    "\n",
    "    _,_ = plot_centered_arrow(0.9, dx, alpha, dx/100, dy/100, 'upper right', head_width=0.05*dx, overhang = 0.5, color = 'grey')\n",
    "    _,_ = plot_centered_arrow(0.9, dx, alpha, dx/100, -dy/100, 'upper left', head_width=0.05*dx, overhang = 0.5, color = 'grey')\n",
    "    _,_ = plot_centered_arrow(0.9, dx, alpha, -dx/100, -dy/100, 'lower left', head_width=0.05*dx, overhang = 0.5, color = 'grey')\n",
    "    _,_ = plot_centered_arrow(0.9, dx, alpha, -dx/100, dy/100, 'lower right', head_width=0.05*dx, overhang = 0.5, color = 'grey')\n",
    "\n",
    "def plot_centered_arrow(close_to_center, dx_figure, alpha, dx_arrow, dy_arrow, loc, **kwargs):\n",
    "    dy_figure = dx_figure*np.tan(alpha)\n",
    "    center_distance_x = close_to_center*dx_figure\n",
    "    center_distance_y = close_to_center*dy_figure\n",
    "    \n",
    "    if loc=='upper left':\n",
    "        center_distance_x = -center_distance_x\n",
    "    if loc=='lower right':\n",
    "        center_distance_y = -center_distance_y\n",
    "    if loc=='lower left':\n",
    "        center_distance_x = -center_distance_x\n",
    "        center_distance_y = -center_distance_y\n",
    "        \n",
    "    start_x = center_distance_x - dx_arrow/2\n",
    "    start_y = center_distance_y - dy_arrow/2\n",
    "        \n",
    "    text = kwargs.pop('text','')\n",
    "    #plt.text(center_distance_x, center_distance_y+0.1*dy, text, ha='center', color=kwargs.get('color','k'))\n",
    "    plt.arrow(start_x, start_y, dx_arrow, dy_arrow, length_includes_head=True, label = text, **kwargs)\n",
    "    return start_x, start_y\n",
    "\n",
    "def alfven_speed(B, rho):\n",
    "    return B/np.sqrt(mu_0*rho) \n",
    "\n",
    "def alfven_vector(Bx, By, rho):\n",
    "    return alfven_speed(Bx, rho), alfven_speed(By, rho)\n",
    "\n",
    "def plot_alfven_speed(V_ax, V_ay, loc, dx, alpha, **kwargs):\n",
    "    if 'to_label' in kwargs:\n",
    "        kwargs.pop('to_label')\n",
    "        text = '$V_A$'\n",
    "    else:\n",
    "        text = ''\n",
    "    start, stop = plot_centered_arrow(0.5, dx, alpha, V_ax, V_ay, loc, head_width=0.05*dx, overhang = 0.5, width=0.1, zorder=10, text = text, **kwargs)\n",
    "    return start, stop\n",
    "\n",
    "def flip_vector(vx, vy, start_x, start_y, dx, **kwargs):\n",
    "    vx, vy = -vx, -vy    \n",
    "    plt.arrow(start_x, start_y, vx, vy, head_width=0.05*dx, overhang = 0.5, width=0.05, zorder=10, color=kwargs.get('color','k'), linestyle=':', length_includes_head=True)\n",
    "    return vx, vy\n",
    "\n",
    "def v_ht_msh(v_ax, v_ay, v_sh, start_x, start_y, dx, **kwargs):\n",
    "    plt.arrow(start_x - v_sh, start_y, v_sh, 0, head_width=0.05*dx, overhang = 0.5, width=0.05, zorder=10, color='k', linestyle=':', length_includes_head=True)\n",
    "    if v_ay < 0:\n",
    "        v_ax, v_ay = flip_vector(v_ax, v_ay, start_x, start_y, dx, color='red')   \n",
    "    \n",
    "    v_ht_y = v_ay\n",
    "    v_ht_x = v_ax + v_sh\n",
    "    if 'to_label' in kwargs:\n",
    "        plt.arrow(start_x - v_sh, start_y, v_ht_x, v_ht_y, head_width=0.05*dx, overhang = 0.5, width=0.1, zorder=10, color='green', label = '$V_{HT}$', length_includes_head=True)\n",
    "    else:\n",
    "        plt.arrow(start_x - v_sh, start_y, v_ht_x, v_ht_y, head_width=0.05*dx, overhang = 0.5, width=0.1, zorder=10, color='green', length_includes_head=True)\n",
    "    \n",
    "    return v_ht_x, v_ht_y, start_x, start_y\n",
    "\n",
    "def v_bl(v_ax, v_ay, v_HT_x, v_HT_y, start_x, start_y, dx, **kwargs):\n",
    "    if v_ay > 0:\n",
    "        v_ax, v_ay = flip_vector(v_ax, v_ay, start_x, start_y, dx, color='red')   \n",
    "\n",
    "    plt.arrow(start_x + v_ax, start_y + v_ay, v_HT_x, v_HT_y, head_width=0.05*dx, overhang = 0.5, width=0.1, zorder=10, color='green', length_includes_head=True)\n",
    "    \n",
    "    v_bl_y = v_HT_y + v_ay\n",
    "    v_bl_x = v_HT_x + v_ax\n",
    "    if 'to_label' in kwargs:\n",
    "        plt.arrow(start_x, start_y, v_bl_x, v_bl_y, head_width=0.05*dx, overhang = 0.5, width=0.1, zorder=10, color='purple', label='$V_{BL}$', length_includes_head=True)\n",
    "    else:\n",
    "        plt.arrow(start_x, start_y, v_bl_x, v_bl_y, head_width=0.05*dx, overhang = 0.5, width=0.1, zorder=10, color='purple', length_includes_head=True)\n",
    "    \n",
    "    return v_bl_x, v_bl_y, start_x, start_y\n",
    "\n",
    "def draw_v_ht_msh(B, alpha, loc, rho, dx, **kwargs):\n",
    "    Bx = B*np.cos(alpha)\n",
    "    By = B*np.sin(alpha)\n",
    "    if loc=='upper left' or loc=='lower right':\n",
    "        By = -By\n",
    "    \n",
    "    V_ax, V_ay = alfven_vector(Bx, By, rho)\n",
    "    start_x, start_y = plot_alfven_speed(V_ax, V_ay, loc, dx, alpha, color='r')\n",
    "    \n",
    "    v_HT_x, v_HT_y, start_x, start_y = v_ht_msh(V_ax, V_ay, V_sh, start_x, start_y, dx, **kwargs)\n",
    "    \n",
    "    return v_HT_x, v_HT_y\n",
    "\n",
    "def draw_v_ht_msp(B, alpha, loc, rho, v_HT_x, v_HT_y, dx, **kwargs):\n",
    "    Bx = B*np.cos(alpha)\n",
    "    By = B*np.sin(alpha)\n",
    "    if loc=='upper left' or loc=='lower right':\n",
    "        By = -By\n",
    "    \n",
    "    V_ax, V_ay = alfven_vector(Bx, By, rho)\n",
    "    start_x, start_y = plot_alfven_speed(V_ax, V_ay, loc, dx, alpha, color='r', **kwargs)\n",
    "    \n",
    "    v_bl_x, v_bl_y, start_x, start_y = v_bl(V_ax, V_ay, v_HT_x, v_HT_y, start_x, start_y, dx, **kwargs)\n",
    "    \n",
    "    return v_bl_x, v_bl_y"
   ],
   "metadata": {
    "collapsed": false,
    "ExecuteTime": {
     "end_time": "2024-05-06T13:04:22.888582Z",
     "start_time": "2024-05-06T13:04:22.877342Z"
    }
   },
   "id": "1efd981f78fc67c4",
   "execution_count": 10
  },
  {
   "cell_type": "code",
   "outputs": [
    {
     "data": {
      "text/plain": "<Figure size 2500x812.299 with 1 Axes>",
      "image/png": "[encoded data removed]"
     },
     "metadata": {},
     "output_type": "display_data"
    }
   ],
   "source": [
    "mu_0 = 1\n",
    "V_sh=2\n",
    "B_MSP=-8\n",
    "B_MSH=6\n",
    "rho_MSP=2\n",
    "rho_MSH=4\n",
    "alpha = np.pi/10\n",
    "\n",
    "# B_MSP and B_MSH are positive values, it's only for the magnitudes, because in our configuration, B_MSH goes towards the right, and B_MSP towards the left\n",
    "\n",
    "dx = 25\n",
    "dy = np.tan(alpha)*dx\n",
    "fig = plt.figure(figsize=(dx,dy))\n",
    "plot_field_lines(dx, alpha)\n",
    "\n",
    "# V_SH\n",
    "plt.arrow(-V_sh/2, dy, V_sh, 0, head_width=0.05*dx, overhang = 0.5, label ='$V_{sh}$', length_includes_head=True)\n",
    "#plt.text(0, dy*0.9, '$V_{sh}$', horizontalalignment = 'center')\n",
    "\n",
    "# Alfven speed\n",
    "v_HT_x, v_HT_y= draw_v_ht_msh(B_MSH, alpha, 'upper right', rho_MSH, dx, to_label=True)  \n",
    "v_bl_x, v_bl_y = draw_v_ht_msp(B_MSP, alpha, 'lower right', rho_MSP, v_HT_x, v_HT_y, dx, to_label=True)\n",
    "\n",
    "v_HT_x, v_HT_y = draw_v_ht_msh(B_MSH, alpha, 'upper left', rho_MSH, dx)\n",
    "v_bl_x, v_bl_y = draw_v_ht_msp(B_MSP, alpha, 'lower left', rho_MSP, v_HT_x, v_HT_y, dx)\n",
    "\n",
    "plt.text(0, -0.7*dy, 'MSP', ha = 'center')\n",
    "plt.text(0, 0.7*dy, 'MSH', ha = 'center')\n",
    "\n",
    "# V_HT\n",
    "#v_HT_left = v_ht(V_ax_MSH, V_ay_MSH, V_sh)\n",
    "#v_HT_left = v_ht(V_ax_MSH, V_ay_MSH, V_sh)\n",
    "\n",
    "plt.legend()\n",
    "plt.show()"
   ],
   "metadata": {
    "collapsed": false,
    "ExecuteTime": {
     "end_time": "2024-05-06T13:05:31.143767Z",
     "start_time": "2024-05-06T13:05:31.007270Z"
    }
   },
   "id": "6b020c7f7ef778cf",
   "execution_count": 16
  },
  {
   "cell_type": "code",
   "outputs": [],
   "source": [
    "import matplotlib.pyplot as plt\n",
    "import numpy as np\n",
    "#import matplotlib\n",
    "#matplotlib.rcParams[\"text.usetex\"] = False\n",
    "\n",
    "def draw_HT(V_sh, B_MSP, B_MSH, rho_MSP, rho_MSH):\n",
    "    # V_sh's module is in proportion of |V_a_MSH| and the sign gives its direction\n",
    "    # |V_a_MSH| = 1 in the drawing\n",
    "    \n",
    "    dx = 3\n",
    "    dy = 3\n",
    "    plt.figure()\n",
    "    plt.plot(np.linspace(-dx, dx, 100), np.zeros(100), linestyle = '--', alpha = 0.8, color = 'grey')\n",
    "    plt.plot(np.linspace(0, dx, 100), np.linspace(dy/20, dy, 100), alpha = 0.8, color = 'grey')\n",
    "    plt.plot(np.linspace(0, -dx, 100), np.linspace(dy/20, dy, 100), alpha = 0.8, color = 'grey')\n",
    "    plt.plot(np.linspace(0, dx, 100), -np.linspace(dy/20, dy, 100), alpha = 0.8, color = 'grey')\n",
    "    plt.plot(np.linspace(0, -dx, 100), -np.linspace(dy/20, dy, 100), alpha = 0.8, color = 'grey')\n",
    "    \n",
    "    # Direction of B \n",
    "    plt.arrow(0.9*dx, -0.9*dy, -dx/100, dy/100, color = 'grey', head_width=0.2, overhang = 0.5)\n",
    "    plt.arrow(-0.85*dx, -0.85*dy, -dx/100, -dy/100, color = 'grey', head_width=0.2, overhang = 0.5)\n",
    "    plt.arrow(0.85*dx, 0.85*dy, dx/100, dy/100, color = 'grey', head_width=0.2, overhang = 0.5)\n",
    "    plt.arrow(-0.9*dx, 0.9*dy, dx/100, -dy/100, color = 'grey', head_width=0.2, overhang = 0.5)\n",
    "     \n",
    "    # V_SH\n",
    "    plt.arrow(-V_sh/2, dy, V_sh, 0, head_width=0.2, overhang = 0.5)\n",
    "    plt.text(0, dy*0.9, '$V_{sh}$', horizontalalignment = 'center')\n",
    "    \n",
    "    # Alfven speed\n",
    "    V_a_MSH = B_MSH/np.sqrt(mu_0*rho_MSH)\n",
    "    V_a_MSP = B_MSP/np.sqrt(mu_0*rho_MSP)\n",
    "    \n",
    "    plt.show()\n",
    "    \n",
    "draw_HT(-2)"
   ],
   "metadata": {
    "collapsed": false
   },
   "id": "9aed93fbbc3b6deb",
   "execution_count": null
  },
  {
   "cell_type": "code",
   "outputs": [],
   "source": [],
   "metadata": {
    "collapsed": false
   },
   "id": "a0d9e3d0cfbf3413"
  }
 ],
 "metadata": {
  "kernelspec": {
   "display_name": "Python 3",
   "language": "python",
   "name": "python3"
  },
  "language_info": {
   "codemirror_mode": {
    "name": "ipython",
    "version": 2
   },
   "file_extension": ".py",
   "mimetype": "text/x-python",
   "name": "python",
   "nbconvert_exporter": "python",
   "pygments_lexer": "ipython2",
   "version": "2.7.6"
  }
 },
 "nbformat": 4,
 "nbformat_minor": 5
}
